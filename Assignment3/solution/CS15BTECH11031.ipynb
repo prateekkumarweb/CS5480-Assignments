{
 "cells": [
  {
   "cell_type": "markdown",
   "metadata": {},
   "source": [
    "## Assignment 3\n",
    "\n",
    "1. Answer \n",
    "  1. I used the poem 'the cat in the hat' for training my RNN.\n",
    "  2. I obtained the one hot encoding for each character to input to the RNN."
   ]
  },
  {
   "cell_type": "code",
   "execution_count": 17,
   "metadata": {},
   "outputs": [],
   "source": [
    "import numpy as np\n",
    "np.random.seed(5)\n",
    "\n",
    "from datetime import datetime\n",
    "import sys\n",
    "\n",
    "def softmax(x, t=1):\n",
    "    xt = np.exp(x/t)\n",
    "    if np.sum(xt) == 0:\n",
    "        print(np.sum(xt))\n",
    "    return xt / np.sum(xt)\n",
    "\n",
    "def ohe(c):\n",
    "    v = np.zeros(256, dtype=np.int8)\n",
    "    if (ord(c) > 255):\n",
    "        return v\n",
    "    v[ord(c)] = 1\n",
    "    return v"
   ]
  },
  {
   "cell_type": "markdown",
   "metadata": {},
   "source": [
    "The below program converts all the characters in the poem to its corresponding one hot encoding."
   ]
  },
  {
   "cell_type": "code",
   "execution_count": 21,
   "metadata": {},
   "outputs": [
    {
     "name": "stdout",
     "output_type": "stream",
     "text": [
      "(375, 20, 256) (375, 20, 256)\n"
     ]
    }
   ],
   "source": [
    "ohes = []\n",
    "asciis = []\n",
    "\n",
    "with open(\"poem.txt\") as f:\n",
    "    while True:\n",
    "        c = f.read(1)\n",
    "        if not c:\n",
    "            break\n",
    "        else:\n",
    "            ohes.append(ohe(c))\n",
    "#             asciis.append(np.array([ord(c)]))\n",
    "\n",
    "ohes = np.array(ohes)\n",
    "# asciis = np.array(asciis)\n",
    "# print(np.shape(asciis))\n",
    "\n",
    "def get_train_data(k=20):\n",
    "\n",
    "    X_train = []\n",
    "    y_train = []\n",
    "    for i in range(0,len(ohes)-k-1,5):\n",
    "        X_train.append(ohes[i:i+k])\n",
    "        y_train.append(ohes[i+1:i+k+1])\n",
    "\n",
    "    X_train = np.array(X_train)\n",
    "    y_train = np.array(y_train)\n",
    "    return X_train, y_train\n",
    "\n",
    "X_train, y_train = get_train_data()\n",
    "\n",
    "print(X_train.shape, y_train.shape)"
   ]
  },
  {
   "cell_type": "markdown",
   "metadata": {},
   "source": [
    "## Answer 2b\n",
    "\n",
    "The following is the program used to train RNN. I have used the program given at\n",
    "[WILDML](http://www.wildml.com/2015/09/recurrent-neural-networks-tutorial-part-2-implementing-a-language-model-rnn-with-python-numpy-and-theano/) and changed a bit to take input one hot encodings of the charcters."
   ]
  },
  {
   "cell_type": "code",
   "execution_count": 31,
   "metadata": {},
   "outputs": [],
   "source": [
    "class RNN:\n",
    "    def __init__(self, word_dim, hidden_dim=100, bptt_truncate=10):\n",
    "        self.word_dim = word_dim\n",
    "        self.hidden_dim = hidden_dim\n",
    "        self.bptt_truncate = bptt_truncate\n",
    "        \n",
    "        self.U = np.random.uniform(-np.sqrt(1./word_dim), np.sqrt(1./word_dim), (hidden_dim, word_dim))\n",
    "        self.V = np.random.uniform(-np.sqrt(1./hidden_dim), np.sqrt(1./hidden_dim), (word_dim, hidden_dim))\n",
    "        self.W = np.random.uniform(-np.sqrt(1./hidden_dim), np.sqrt(1./hidden_dim), (hidden_dim, hidden_dim))\n",
    "        \n",
    "    def forward_propagation(self, x, temp=1):\n",
    "        # The total number of time steps\n",
    "        T = len(x)\n",
    "        # During forward propagation we save all hidden states in s because need them later.\n",
    "        # We add one additional element for the initial hidden, which we set to 0\n",
    "        s = np.zeros((T + 1, self.hidden_dim))\n",
    "        s[-1] = np.zeros(self.hidden_dim)\n",
    "        # The outputs at each time step. Again, we save them for later.\n",
    "        o = np.zeros((T, self.word_dim))\n",
    "        # For each time step...\n",
    "        for t in np.arange(T):\n",
    "            # Note that we are indxing U by x[t]. This is the same as multiplying U with a one-hot vector.\n",
    "            # print(x.shape, s.shape)\n",
    "#             s[t] = np.tanh(self.U[:,x[t]] + self.W.dot(s[t-1]))\n",
    "            s[t] = np.tanh(self.U.dot(x[t]) + self.W.dot(s[t-1]))\n",
    "            o[t] = softmax(self.V.dot(s[t]), temp)\n",
    "        return [o, s]\n",
    "    \n",
    "    def predict(self, x, temp):\n",
    "        # Perform forward propagation and return index of the highest score\n",
    "        o, s = self.forward_propagation(x, temp)\n",
    "        # print(o)\n",
    "        return np.array([np.argmax(oi) for oi in o])\n",
    "    \n",
    "    def predict_prob(self, x, t=1):\n",
    "        o, s = self.forward_propagation(x, t)\n",
    "        return np.array([np.random.choice(256, p=oi) for oi in o])\n",
    "    \n",
    "    def calculate_total_loss(self, x, y):\n",
    "        L = 0\n",
    "        # For each sentence...\n",
    "        for i in np.arange(len(y)):\n",
    "            o, s = self.forward_propagation(x[i])\n",
    "            # We only care about our prediction of the \"correct\" words\n",
    "#             correct_word_predictions = o[np.arange(len(y[i])), y[i]]\n",
    "            correct_word_predictions = o[np.arange(len(y[i])), [np.argmax(yj) for yj in y[i]]]\n",
    "            # Add to the loss based on how off we were\n",
    "            L += -1 * np.sum(np.log(correct_word_predictions))\n",
    "        return L\n",
    "\n",
    "    def calculate_loss(self, x, y):\n",
    "        # Divide the total loss by the number of training examples\n",
    "        N = np.sum((len(y_i) for y_i in y))\n",
    "        return self.calculate_total_loss(x,y)/N\n",
    "    \n",
    "    def bptt(self, x, y):\n",
    "        T = len(y)\n",
    "        # Perform forward propagation\n",
    "        o, s = self.forward_propagation(x)\n",
    "        # We accumulate the gradients in these variables\n",
    "        dLdU = np.zeros(self.U.shape)\n",
    "        dLdV = np.zeros(self.V.shape)\n",
    "        dLdW = np.zeros(self.W.shape)\n",
    "        delta_o = o\n",
    "#         delta_o[np.arange(len(y)), y] -= 1.\n",
    "        delta_o[np.arange(len(y)), [np.argmax(yi) for yi in y]] -= 1.\n",
    "        # For each output backwards...\n",
    "        for t in np.arange(T)[::-1]:\n",
    "            dLdV += np.outer(delta_o[t], s[t].T)\n",
    "            # Initial delta calculation\n",
    "            delta_t = self.V.T.dot(delta_o[t]) * (1 - (s[t] ** 2))\n",
    "            # Backpropagation through time (for at most self.bptt_truncate steps)\n",
    "            for bptt_step in np.arange(max(0, t-self.bptt_truncate), t+1)[::-1]:\n",
    "                # print \"Backpropagation step t=%d bptt step=%d \" % (t, bptt_step)\n",
    "                dLdW += np.outer(delta_t, s[bptt_step-1])              \n",
    "#                 dLdU[:,x[bptt_step]] += delta_t\n",
    "                dLdU[:,np.argmax(x[bptt_step])] += delta_t\n",
    "                # Update delta for next step\n",
    "                delta_t = self.W.T.dot(delta_t) * (1 - s[bptt_step-1] ** 2)\n",
    "        return [dLdU, dLdV, dLdW]\n",
    "    \n",
    "    def sgd_step(self, x, y, learning_rate):\n",
    "        # Calculate the gradients\n",
    "        dLdU, dLdV, dLdW = self.bptt(x, y)\n",
    "        # Change parameters according to gradients and learning rate\n",
    "        self.U -= learning_rate * dLdU\n",
    "        self.V -= learning_rate * dLdV\n",
    "        self.W -= learning_rate * dLdW\n",
    "\n",
    "def train_with_sgd(model, X_train, y_train, learning_rate=0.005, nepoch=100, evaluate_loss_after=5):\n",
    "    # We keep track of the losses so we can plot them later\n",
    "    losses = []\n",
    "    num_examples_seen = 0\n",
    "    for epoch in range(nepoch):\n",
    "        # Optionally evaluate the loss\n",
    "        if (epoch % evaluate_loss_after == 0):\n",
    "            loss = model.calculate_loss(X_train, y_train)\n",
    "            losses.append((num_examples_seen, loss))\n",
    "            time = datetime.now().strftime('%Y-%m-%d %H:%M:%S')\n",
    "            print(\"{0}: Loss after num_examples_seen={1} epoch={2}: {3}\".format(time, num_examples_seen, epoch, loss))\n",
    "            print(\"Output:\")\n",
    "            predict_from_chunk(model)\n",
    "            # Adjust the learning rate if loss increases\n",
    "            if (len(losses) > 1 and losses[-1][1] > losses[-2][1]):\n",
    "                learning_rate = learning_rate * 0.5 \n",
    "                print(\"Setting learning rate to {0}\".format(learning_rate))\n",
    "            sys.stdout.flush()\n",
    "        # For each training example...\n",
    "        for i in range(len(y_train)):\n",
    "            # One SGD step\n",
    "            model.sgd_step(X_train[i], y_train[i], learning_rate)\n",
    "            num_examples_seen += 1\n",
    "            \n",
    "def predict_from_chunk(model):\n",
    "    c = np.array([ohe(a) for a in 'the sun did not shine.\\nit was too wet to play.\\nso we sat in the house\\nall that cold, cold, wet day.\\n'])\n",
    "    for i in range(len(c)):\n",
    "        print(chr(np.argmax(c[i])), end='')\n",
    "    for i in range(500):\n",
    "        c = model.predict(c, 1)\n",
    "        c = np.array([ohe(chr(a)) for a in c])\n",
    "        print(chr(np.argmax(c[-1])), end='')\n",
    "    print('')"
   ]
  },
  {
   "cell_type": "markdown",
   "metadata": {},
   "source": [
    "## Answer 2(b)"
   ]
  },
  {
   "cell_type": "code",
   "execution_count": 32,
   "metadata": {
    "scrolled": true
   },
   "outputs": [
    {
     "name": "stdout",
     "output_type": "stream",
     "text": [
      "2018-04-29 22:20:29: Loss after num_examples_seen=0 epoch=0: 5.544362778371761\n",
      "Output:\n",
      "the sun did not shine.\n",
      "it was too wet to play.\n",
      "so we sat in the house\n",
      "all that cold, cold, wet day.\n",
      "AÝC\u001d",
      "5Ù®+_¯â+\u0017Td\u0013q\u0014x1³YwPñ\u0014¢DW/\u0004 á\"iÔ\u0006àW/{´æG2R.H\u0012]\u0002w\u0002ÛH\u0012¸%{´Ó@µ¥~\u0002Û^ö_ô\u0018ý´üàì\u0004ÏjÙK¶5Â$®#\u0017T\u001e",
      "7| íÇG¤â¨bU\u001fpN:~\u0002TmTdÐ@À(uµ¥_Â\u000b",
      "é½ï\n",
      "ÍÿwPñ7L³v\u000b",
      "é&aI\\\n",
      "²_¾WX©pV\\¾Ðj\u000b",
      "é¨ØÜ¦Q\"<¤ùfíÇ«-K?ÕPÚÃ4þv\u000fb>Ï;ì\u0019³k@kt¨¹Ò\u001d",
      "\n",
      "ðn\u001ay?'£CÌhJ'FïosBÿ0Kã¨¹4b>d4«}æGI½v\u000fì¹Õ%®\n",
      "®¢\u00156Exû\u0003º\u001c",
      "ü/\u0004 ",
      "%®m¿0ZgYìF ¤»\\r\u0013Cp[\u001e",
      "CmA/Á:÷\u000fiíÇ2Ë5Â¤È}¢6_5Â\u000b",
      "éÓâÿý4iÖdªXþvÂ\u000b",
      "éZ-ÙKòÐEÅèjÙË5Â\u000b",
      "é9¾Wg\u001bõÚ0ÜÃÂ¤»öÂ$TÄÖ\"ýæGg\u001c",
      "ü\u0007;$-G2ËwªXþq\u0014÷\u000f½#êë3\u0007;\u0004©\u001b\u0017s\u0015\u0000­4þn>\u0004¶ì'²Ñ\u0005¾W/\u0003!\u0012]\n",
      "2018-04-29 22:20:51: Loss after num_examples_seen=750 epoch=2: 3.248017773785678\n",
      "Output:\n",
      "the sun did not shine.\n",
      "it was too wet to play.\n",
      "so we sat in the house\n",
      "all that cold, cold, wet day.\n",
      "                                                                                                                                                                                                                                                                                                                                                                                                                                                                                                                    \n",
      "2018-04-29 22:21:13: Loss after num_examples_seen=1500 epoch=4: 3.0862035616639205\n",
      "Output:\n",
      "the sun did not shine.\n",
      "it was too wet to play.\n",
      "so we sat in the house\n",
      "all that cold, cold, wet day.\n",
      " t t t t t t t t t t t t t t t t t t t t t t t t t t t t t t t t t t t t t t t t t t t t t t t t t t t t t t t t t t t t t t t t t t t t t t t t t t t t t t t t t t t t t t t t t t t t t t t t t t t t t t t t t t t t t t t t t t t t t t t t t t t t t t t t t t t t t t t t t t t t t t t t t t t t t t t t t t t t t t t t t t t t t t t t t t t t t t t t t t t t t t t t t t t t t t t t t t t t t t t t t t t t t t t t t t t t t t t t t t t t t t t t t t t t t t t t t t t t t t t t t t t t t t t t t t\n",
      "2018-04-29 22:21:35: Loss after num_examples_seen=2250 epoch=6: 2.85652777743687\n",
      "Output:\n",
      "the sun did not shine.\n",
      "it was too wet to play.\n",
      "so we sat in the house\n",
      "all that cold, cold, wet day.\n",
      "to to to to to to to to to to to to to to to to to to to to to to to to to to to to to to to to to to to to to to to to to to to to to to to to to to to to to to to to to to to to to to to to to to to to to to to to to to to to to to to to to to to to to to to to to to to to to to to t t at at at at at at at at at at at at at at at at at at at at at at at at at at at at at at at at at at at at at at at at at at at at at at at at at at at at at at at at at at at at at at ato to to to to to to to \n",
      "2018-04-29 22:21:57: Loss after num_examples_seen=3000 epoch=8: 2.6897452115973324\n",
      "Output:\n",
      "the sun did not shine.\n",
      "it was too wet to play.\n",
      "so we sat in the house\n",
      "all that cold, cold, wet day.\n",
      "t thaot t at to that tha at t tot at toto aot at an hao aot at thao aot at h at aot ao t at tha tot to thao tot ho hoto aot aot hot tht th t at th t at th t at th t at th t at th t at th t at th t at th t at th t at th t at th t at th t at th t at th t at th t at th t at th t at th t at th t at th t at th t at th t at th t at th t at th t at th t at th t at th t at th t at th t at th t at th t at th t at th t at th t at th t at th t at th t at th t at th t at th t at th t at th t at th t at th t\n",
      "2018-04-29 22:22:19: Loss after num_examples_seen=3750 epoch=10: 2.568352869866591\n",
      "Output:\n",
      "the sun did not shine.\n",
      "it was too wet to play.\n",
      "so we sat in the house\n",
      "all that cold, cold, wet day.\n",
      "at at at haot hat an th t at that that an than that to that th t at aot an that an aot han that th t at that an that an that tht aot han thn that an that tht aot han that an that an that an t\n",
      "at hat that an t\n",
      "at hat that an that aot han ahathan that aot th t at that an that th t at that an that an that an that an that an that an that an that an that an that an that an that an that an that an that an that an that an that an that an that an that an that an that an that an that an that an that an t\n"
     ]
    }
   ],
   "source": [
    "model = RNN(256, hidden_dim=200)\n",
    "losses = train_with_sgd(model, X_train, y_train, nepoch=11, evaluate_loss_after=2, learning_rate=0.001)"
   ]
  },
  {
   "cell_type": "markdown",
   "metadata": {},
   "source": [
    "|Epoch|Train error|\n",
    "|---|---|\n",
    "|0|5.544362778371761|\n",
    "|2|3.248017773785678|\n",
    "|4|3.0862035616639205|\n",
    "|6|2.85652777743687|\n",
    "|8|2.6897452115973324|\n",
    "|10|2.568352869866591|"
   ]
  },
  {
   "cell_type": "markdown",
   "metadata": {},
   "source": [
    "## Answer 2(a)"
   ]
  },
  {
   "cell_type": "code",
   "execution_count": 61,
   "metadata": {},
   "outputs": [
    {
     "data": {
      "image/png": "[encoded data removed]",
      "text/plain": [
       "<Figure size 432x288 with 1 Axes>"
      ]
     },
     "metadata": {},
     "output_type": "display_data"
    }
   ],
   "source": [
    "import matplotlib.pyplot as plt\n",
    "plt.plot([0,2,4,6,8,10],[5.544362778371761,3.248017773785678,3.0862035616639205,2.85652777743687,2.6897452115973324,2.568352869866591])\n",
    "plt.xlabel(\"Number of epochs\")\n",
    "plt.ylabel(\"Training Loss\")\n",
    "plt.show()"
   ]
  },
  {
   "cell_type": "markdown",
   "metadata": {},
   "source": [
    "## Answer 2(c)"
   ]
  },
  {
   "cell_type": "code",
   "execution_count": 39,
   "metadata": {},
   "outputs": [],
   "source": [
    "def predict_text(model, s, t):\n",
    "    c = np.array([ohe(a) for a in s])\n",
    "    for i in range(len(c)):\n",
    "        print(chr(np.argmax(c[i])), end='')\n",
    "    for i in range(500):\n",
    "        c = model.predict_prob(c, t)\n",
    "        c = np.array([ohe(chr(a)) for a in c])\n",
    "        print(chr(np.argmax(c[-1])), end='')\n",
    "    print('')\n"
   ]
  },
  {
   "cell_type": "code",
   "execution_count": 40,
   "metadata": {},
   "outputs": [
    {
     "name": "stdout",
     "output_type": "stream",
     "text": [
      "¡\u001e",
      "ÈH6³IåÚâÕØQ«2-ÍKg^¸2]ò>M­ÿXÎ¯LA\n",
      "\u0014|",
      ".\u0015\"\u0007¾8sÏÁ>bÜmÞÉ?d^¦W\u0013Ê13ÏÀÿ±­´ß½AàÒ®KJËþU©\u001aþ¥ø¥þãà\u0015{¡\u0019\u0003Ï\u0007n@Ü-±\u0005\u000f\n",
      "R/-u\u001e",
      "nö¥d\u001c",
      "\u0016+íIRLµ~\u000b",
      "u<\"MÙð\u0015h'\f",
      "È7AÐ\u0004\u0000ñìýx²k&¸Ì]\u001e",
      "¯rË³12\t[éy'p¢É§I\u001c",
      "\u001fHð\u0018¿¶\u000b",
      "ÌºÍí-ÚÎ sr-ÍôyWÁrt..\n",
      "\u0006°\u001bÍàP\u0017\u0002Á\u0014ÀLÅjzNÞ¶KÐ_,õ\u001d",
      "QâDÝÏÿ\u0018jëÅñlj:;\u0011\u0002cHæV¬Á¼ÕÉ×¦[ ÿYº[\u0006©?âq\u0011\u0004o sd\u0005KwÒWwÞÍ\u0011E-çó\u001d",
      "Ôw0E\u0011NoDIö\u0012\n",
      "æç§Ü·\u0016'Uê%IQ\u0014e<¼õ\u000f4^\u0003ó´¤*\u0003V\u0014'Ùê\u0004«[yÔ\n",
      "cw\\\u00055\u0018$1]e\n",
      "\u001f¯¸ïÀÚ'ÈE\u001fD´Ëë®\t§á]_<Fs3 f³û'rùº\u0005\u0000lg\n"
     ]
    }
   ],
   "source": [
    "predict_text(model, 'a', 1)"
   ]
  },
  {
   "cell_type": "code",
   "execution_count": 41,
   "metadata": {},
   "outputs": [
    {
     "name": "stdout",
     "output_type": "stream",
     "text": [
      "e6ÞGÎK4r-|´¥ÞË%\u00138-[Ì>µïæ@æU$­Ê!%²\u0017Oô\u0002\u001f\u0006Ç{Dh³Ý&×Þ#Ñ84Ì:\u0007ªKCü¡Ù fbu¾Ìm\t8gY",
      "\u0011V8bXSÚ=k}\f",
      "A#(øÂl¹W×í.á:0Rïì\"%úò1\"·j¹l\u0011\u0006«!\u0017vzø\u000f&ºj\n",
      "h n_|Ýï\u0012á\u0013g\u001c",
      "ºkëá3Û­wÂb¹J±ké§Tÿ\u0007¢\u0014;MÁÓ\u000b",
      "Üß»\u0006\u0005B.¹ÿ×þ\u000e\u001d",
      "[_ÕC\u001d",
      "6Ø^´JüOÄÜ\u0018ÄF1­£øª\u0010¤ö4¶YÚB:TzPíRâ\u0003",
      "Ñ %ÂÚÝQ=wIúèI5ÿ\u0019øÿ©ÂÿªN\u001a&<û6K\u0006\r",
      "Ê\u0006&ÄÁIDÇ/Ïe uPË©\u00168Q*èê4­¢xöÎ\u0000ìÈÁÞW][,9}5¶×\u001d",
      "\u0002'~³\u001e",
      "\"©[_ÔÂ\u001fÃ?}?ú_±X\u0019Ä°\u0018]=ëößKÁõÏ",
      "ÓR]¡\u0018\u0001\u000b",
      "Ô5JÆ ¸»WTÞ\u0013\u0010UßQ\u000eJ§\u000eDÏá\u0004Ì\u0003[Í)b_Z01ìòÏí\u001d",
      "\u0015)\u001c",
      "0+¶îm\u0018ÁH_Ï¸5\u0019\u0015¯thR\f",
      "\u001c",
      "\"|^\u001e",
      "ð&ogM_Y¯®vñ`ùßCÎiDDõõfZ*[Ó²â\u0016ß¿Ä1\f",
      ")b¿4gß!Öi\bÞ¬ \n"
     ]
    }
   ],
   "source": [
    "predict_text(model, 'e', 1)"
   ]
  },
  {
   "cell_type": "code",
   "execution_count": 42,
   "metadata": {},
   "outputs": [
    {
     "name": "stdout",
     "output_type": "stream",
     "text": [
      "iøÃ\u0016¸ir Ô\u001c",
      "Å\u0007\u0001 mg_*HÒ-æ¨jºÆ¥ö¸çÏ/Ð¯È¤ëæ1j½tn\u0010ÂRÈ!\u000e°§÷­rNá{L\f",
      ";§\u0013)\u001c",
      "R\u0006gQ®é¦º[\u000b",
      "×Å¯\u0007OMIû\u0017Brp¥\u0014õºÌð1\u000b",
      "»ð\u0019SªdB¦6\u0005ÎU\u0012-ê&nì;\u0013\"t\u001d",
      "¨ýÜ,G\u0003ô\u0013\u0005Mz\u0007\bjÒ§-úkÞ e£\u0012¨",
      "´Î§bìäü;ù\u001b]ªNÅ÷Jð",
      "«Æ©}¼\u001aÛÍõ\u0013!\u0001\u0000Ð&ÕÜ×\u0014áI½\u000eÐ¹èw]Û|\f",
      "\u0017sk\u000fzF\u001c",
      "Ö|ç­Jû+ÇÁ\bjyvAbYÞNÇçÃÕ\u000e:³j\u001d",
      "¯1Kµ°ñ\u0007§\u001e",
      "T\u0014;\u0018éÁU\u000fìsVÛs\b¨EBÙpÿýùß­ .>£-µ\u001bGØ5ÃéÒ\u0004h²uyÅgÒ.ltSòa\u001c",
      "og~lkmKV",
      "Úzúä!\u0015'#Bb¶ØSÆê",
      "/â\u0014C\u001e",
      "e*\u001f÷\u000b",
      "ãó`\u001d",
      "áö \u001d",
      " ð\u0012ªp§\t1¿tÄà®òzÇ­ãSÑGónÎ Oü;ig4|¢ÒZétvÛò¶\u0005´È®ù\u0010ÁMÁþ\u0005æ1Õ[,\u001d",
      "µ¨ÖÏ{s7ü1¼\u0011!I4Oq\b\u0016h×ë\r",
      "Òe`7#\t\u001aëuÌÌ¸ð°\n"
     ]
    }
   ],
   "source": [
    "predict_text(model, 'i', 1)"
   ]
  },
  {
   "cell_type": "code",
   "execution_count": 43,
   "metadata": {},
   "outputs": [
    {
     "name": "stdout",
     "output_type": "stream",
     "text": [
      "o\u0004\u000b",
      "fsgt/Á@Ýt4\u001aýÓVb`²Ô\u0016\u000eÒ_¾\u0004\u0012Fm¹\"Õê-¦N\f",
      "üÐ$\u001fØ}\u001c",
      "ö¬\u001aÑ\u0012\u0014\u0017\u000b",
      ", ie\n",
      "Oâ&½\u001b?bj÷\u000e­­C'ßªÐ!y §ù:¦ñÛ\u0000°\t\u001f¥óp÷êÔÚ¹>ëÞDê\u0017ß±æ:à¬i¢8®`\n",
      "vãôF6¥!uµÀj@6od+\u0017\u0001l<Çá-×7ZsV©Ì\u0013¸ÝT\r",
      "ëÌNz£¤þ*\\ä2=ê\u0007%#:«¢3*\n",
      "Ù\u0004W{d<\"L\\wÔæØ¥9À[S{Ïe^vÊ6³÷\u0010ï£\t\u0018ò\u0003\u0002Nì2ÈùÓ`XÒ#\u0013®th«{O_\u0019!Dç$O\u000e[i£\u0013ÌWøÂ«\"Ê|N÷UÓÑ¦]3W>'®áßT;å¨RÆÅf¸gÃ²&}\u001bÛ¬\u0010\u001e",
      "M\u0003naD:´QÔúí¼á#¤\u0000\u0011{õÇÊ¹Cêì³[ð\u0006\\`õTgj\t{×µ[\u001a\u00193\u0015eÆ\u000engòù2¾\u0002\týÀ;|!Ísdçy?¸ööà\u000fö|D2ûþ.\u001aÞÓµJôS\n",
      "\t³Ðé~â¤¦`y¬T}>¨",
      "Æ±a\u001f1#ûÛæÃÒ\t|áJ)EÍËÐ\u0017Ö°¥G\u001aÝx0 ê\u000eÖ¨¥÷¦\u0000t c1xM\b\n"
     ]
    }
   ],
   "source": [
    "predict_text(model, 'o', 1)"
   ]
  },
  {
   "cell_type": "code",
   "execution_count": 44,
   "metadata": {},
   "outputs": [
    {
     "name": "stdout",
     "output_type": "stream",
     "text": [
      "uÜ¿Wè#VB\u000b",
      "q\u0019Df\u0019^±|[ùn_\\¡öZ\u0016ÓÃÙ\u001d",
      "¤%\u0001ïyÐ\u0014Má\u000eRL§¿\u001e",
      "3Ô=ð\\øË°Î(\n",
      "Ç&jæQ<Æ;\u001a\u0017}ÛLuç&Çe",
      "V\u001f\tüWÀ\u000b",
      "nÏgô6\u001e",
      "ùýzÍ,ÑÓÇøK43Å^ÙÍB­ÔV®Ó\u0016H{£=93Óìú»`ÕàÕ.>«ò\u001b{öëcC¥Fç\u0012´ÇçèÓÐucñ²6ô¬:?,ÂáúZ\u001b ¨\u0004ã\u0017ßËëIë\u0012,Ëûõ6\u0006@Í\u0015Êl\u0004(.;½?¾N*O)ãPdÖJ!Ð\u0012¾þìw¢\u0004ÁY¿òm/Ë¾ê",
      "(An\u000b",
      "VFþìYãLòÁ}H6øç\u0001Ë¶jrESïEMØ§Q'ZAÀ\u0003Ã-¥&Xñ\u0016#í­4ÞJ°Rü\u0005&qÔ©ehÚHíÛ\r",
      "5jÊ<æÐ³âóa\u0010\b ¦g±GCµGsÏX|Æ¼Ù¬\f",
      "=ð þþ³ø¿>g»~}\u0001ûÌF ñll£y'",
      "è\u0000úö~xt¢Ã\u0003tq",
      "àQ:ÏøãàX­GÂ¯\u000euX¶7hàP¢mâ\u0018£Å\u0011'ÔV\u001e",
      "}\f",
      "Ô«âdìßäI¼\u001c",
      "± F-B+\n",
      "Ïð\r",
      "\"Æqr÷¢Ã°\u0007\u0015ØaåØf·\u0014$ÆÚ¦RD¥QÆÒ4úè¾\u001aÿ©)\n"
     ]
    }
   ],
   "source": [
    "predict_text(model, 'u', 1)"
   ]
  },
  {
   "cell_type": "code",
   "execution_count": 46,
   "metadata": {},
   "outputs": [
    {
     "name": "stdout",
     "output_type": "stream",
     "text": [
      "athe the the the s the the cathe the the the she the ce the the the she s sathe the the the the the the she cathe the she the the she she she the she the the the cathe n the the the the she the the the athe the the cathe the cathe she cathe the the n the the the the the the sathe sathe cathe sathe the the the the the the the the the the the the the the the the the the the the she the the the sathe the the cathe the the the the the the the the the the the the she cathe the sathe the the the sathe \n"
     ]
    }
   ],
   "source": [
    "predict_text(model, 'a', 0.1)"
   ]
  },
  {
   "cell_type": "code",
   "execution_count": 47,
   "metadata": {},
   "outputs": [
    {
     "name": "stdout",
     "output_type": "stream",
     "text": [
      "e the the the the the the the she she the cathe the cathe sathe the she the the the she the the the the the the the the the the she cathe the s she the the the the the the she the the the cathe the she she she the the the the s sathe the she the she the sathe the the the the the the the the the the she the the the the n cathe the the the the the the the thathe the the the the she she she she the the sathe s she the the she sathe she she the the the we the the cathe the the she n she the the the t\n"
     ]
    }
   ],
   "source": [
    "predict_text(model, 'e', 0.1)"
   ]
  },
  {
   "cell_type": "code",
   "execution_count": 48,
   "metadata": {},
   "outputs": [
    {
     "name": "stdout",
     "output_type": "stream",
     "text": [
      "ithe the cuthe the the she the the sathe the the she the cathe the she the the cathe the the sathe the the she the she the the sathe the the the the she she the the the the the the cathe the ckouthe she the the the the she she the the the the the the the athe she the she cathe she the cithe the the the the the athe we the the she the sathe the cathe she the the the the the the cathe the the the the the she the athe cathe the the she she she the cathe the sathe the she the sathe the the the she sa\n"
     ]
    }
   ],
   "source": [
    "predict_text(model, 'i', 0.1)"
   ]
  },
  {
   "cell_type": "code",
   "execution_count": 49,
   "metadata": {},
   "outputs": [
    {
     "name": "stdout",
     "output_type": "stream",
     "text": [
      "outhe she the the the she the the the she the n the the the the she she she the the the the the the she she she the sathe the the the the the the the the the she the the the the she the the cathe the the sathe the the cathe the the the she the the the the she s the the she the she she cithe the s the the the cathe the the the the she cathe sathe the the the cathe the the t the the the the n the she the the she cathe the cathe the sathe the the s the she the the the the cothe the the the the the s\n"
     ]
    }
   ],
   "source": [
    "predict_text(model, 'o', 0.1)"
   ]
  },
  {
   "cell_type": "code",
   "execution_count": 50,
   "metadata": {},
   "outputs": [
    {
     "name": "stdout",
     "output_type": "stream",
     "text": [
      "uthe the she the the she the sathe the the cathe the the the the the sathe the the the the the the cathe she the the she the the the the sathe the the she she the she the n she cathe she the the we sathe cathe the she sathe she the she the the the sathe the the the cathe the the t the the the the she sathe the cathe cathe the the the cathe she the she the cathe she the the she the the she the the cathe the the she she cathe the cathe cathe con the the the cathe the cathe sothe cathe the she the t\n"
     ]
    }
   ],
   "source": [
    "predict_text(model, 'u', 0.1)"
   ]
  },
  {
   "cell_type": "code",
   "execution_count": 51,
   "metadata": {},
   "outputs": [
    {
     "name": "stdout",
     "output_type": "stream",
     "text": [
      "÷",
      "\u001e",
      "\"\u001f®¥6Â¶²DÚ",
      "|db©r»âM!í-L?\u000ex\u0005M\u0013\u001e",
      "\u000b",
      "ùWu\u000eÄ@Ø:ß)\u000b",
      "r2Kî7e\u001b\u0001¢Ö8Pf\\fÉI \u0005:î¼Ò3~^Uð\u001a\u001c",
      "CÓØ\"k>ÌÆ\u0011®1\n",
      "®\u001e",
      "½ùýÔft\u0019.\u0000×[y*\u000f÷Ë\u001e",
      "³#LF¶ÌS\u0014Ûý[³´êb²IÄÅ¯wJ\"\u0007ÄÕJ;eÆq\u0018×~úúO\u0006y\u0014·9 1\u0016=PÆ&\u00010G'\\7£Ç\u0007±df&",
      "I\n",
      "bè¡IâI®ÏußÜhó[D)m¹àÌ¹>+hê(¢Æ«\t¤,{,ü¡Ìé\n",
      "D\u00150è°a!\u0003±ªCÃ;vì\u000f?÷\u0000|&7\u000f¥Utµ÷Úè\u001a4¥Bß/\u0011Ú[ýÍu\u0005¶§(ÙOGFáòÉð\u001b_ý\u0002O$ü¡\u0002ØÏúl2\t\\¥\u000b",
      "æ\n",
      "ô]ºb¹jÖûµ5x;æ\u0013\"Ò\u0013òtÐtÉ§»\u000b",
      "à*\u0015ÊT²\u00128¾Rj¸0}z\u001e",
      "iF\u000b",
      "\u001d",
      "ïjR)Eònß¿¿ÞpoÌ2ë\u0006ò7\u0000I¿\n",
      "1\tï\u0000_I¨¬È\u000eõÁ5Â¯Î;ª´ó¥0!!³+c²AÜ\u001e",
      "\u0004Þ\u001bÅ\u0003ÒÑ\n"
     ]
    }
   ],
   "source": [
    "predict_text(model, 'a', 10)"
   ]
  },
  {
   "cell_type": "code",
   "execution_count": 53,
   "metadata": {},
   "outputs": [
    {
     "name": "stdout",
     "output_type": "stream",
     "text": [
      "e¬ËÞkù×=uèZY`d4¥?\u0017\u0002mm8\u001b\u001c",
      "\u0013ûz&Àx\u0015¤ðOþP£õujYâÅÎî°$+\u001a\u001d",
      "É§E\u001f\u001d",
      "L=ðh3§TöÈsrd½ÔÚ«#¼.-F§_Û /QÊ]H¦MvV\u000b",
      "P,JB\t\u00122¥;(\u0014LA<\u0004Æ®?GA\u001a½ Ã\u0003èk'n,ßoÈàHr7 ®©Ò\u0001ÙQIþâD¼\u0017&z?¦/",
      "7/¾\u0005}Ûtb¼å8\u0016«èé8ÂÝ8\u0014/\u001c",
      "\n",
      "\u0007ÃÍ·ÞæsiB~?Xî¦lkhh¼¿;<\u001c",
      "\u001c",
      "y(Ç\u0014\u0007\n",
      "ÊËfÍÎÑ\u0010¡%Ó@$`øÃJGª\u0000va;´\\üS¶0ÃLÄpW'ø\u001a@ìTS\u0012ó\\?}yæ¿Í=e=ÂzÆ:ióÑt´× -ãÛÖ©\u001d",
      "\u0013>ï²N%O\u00194\u001e",
      "EjÖ3Êò¬,Å9d\n",
      "Ú$~v\u001bÅ",
      "Ã­A\u0013E·æ\u0003`ZÐY?ÛdsàÞÈÓdá~Èõ¤.ÐUm'¥\u0017¥ÂÏÇ§lñæìÕõ\u001aO[¸Ãài?N\u0014¿1þÙe¹\u001b§\u0012QKÉ§\u0002½ÄO\u0015èdAße:¼¦\u001c",
      "·ËlGÁ¦ñ,Ë\u0010=\u001c",
      "/\u0019üu³þVöG\u0018ÅhÍÓ\n",
      "\b~\u001d",
      "çºGNe¢&´ê}\u0005xÓ.B\u0017ü¨ÍÕ\n"
     ]
    }
   ],
   "source": [
    "predict_text(model, 'e', 10)"
   ]
  },
  {
   "cell_type": "code",
   "execution_count": 54,
   "metadata": {},
   "outputs": [
    {
     "name": "stdout",
     "output_type": "stream",
     "text": [
      "¾åë<¯ã&ß\u0001Qñ\u0000Ûe",
      "ß·ybXÏ\u0019AM\u0005\u001c",
      "\u001fN@ó¹#§ Qe;¤×÷W\u0012ÒåÑDÔVLéÂ7\u00059ÊÖ/¨n:³-T\u00025®\u0005\to/\u0005¨H¡ÕÎÑi.÷Çò¬`ËôfÄ8!3³ö{zé\u0002 \"ÿmD=ÓjÏ\u0007i\u0000ª¦\u0007×ãn}\u001e",
      "\u0007\u001b(ó8_Á gûÓ/2ç®¯å\u0003OÀ±óñc;TD]ÏÄ¡+É¯eÝÇcAÉ\u0014EýË>\u0011pU1³V\u001f¦ªÏ«n\u0011u Ùü\"Ë^´dÊm\u001c",
      "çÆkÐ?¼Ü>¡oNû<=Û\u0013csC\u0018\u001e",
      "£nï\\ÓÁ¾e[4rúÅDæv\u000e-¡Éà\u001f\u0014ÆÄ±%Û\u0015gé(.gU\u0007\u0011q\u000eÿÊR\u0015\u0002YD\u0013\u0006'Å,uÖc*º'û_2ÂàálÃ\u0012JwÏº ¬E_1Ôt&p\u000e¢E\u001f\u0018É!µjÈ¢ªÍ¹\u0011]Ö)\n"
     ]
    }
   ],
   "source": [
    "predict_text(model, 'i', 10)"
   ]
  },
  {
   "cell_type": "code",
   "execution_count": 55,
   "metadata": {},
   "outputs": [
    {
     "name": "stdout",
     "output_type": "stream",
     "text": [
      "on\u0013ß$¬ê©fÉÈæ®UÍî|<èÁÞµÕmd\u0019Fd\u0005¹ÕæÕ\u00121©F4\u0006õÏVË\u001f\u0005U^\u0018¹¨\u0001Ý*M¢ØQ»®&´Û¾\u000e¿~ò ç¾ìÏ¼²%Ì\n",
      "ërcÊï¯+¯,;þk&P²\u001d",
      "\u0007kûí¢ü;ç\t/¸Ø\u0006¾>qè¢J\u001f¢\f",
      "¹¥G1¬¤6Ä³±ñ<ôÃÌ?­Y>Ü_!ðÒíÑYæ2î~1RB\u0014\u000b",
      "ügZþµÃ(@\u000eÓ\u001fÆÏ(bÒutºû\u0002£äd¡ü|¿¹ö¤\u0012;ñÙ J1ÁóitL¢>§Õuýk\u0018\u0003àqîxN°]O>\u0019*ç)BÀÂ\u001a'r\u0011ø\u001c",
      " \u0004vó\u0013O'Áb×\n",
      "úÁ\u001a£äæëÞ=ád½êûÿ0\u0013Q\u000f¨<A^\u001aÜ±±Z«6Üèf\tÆ\u000e\n",
      "ÙÄ&;ÇvìÝ®¡æJÚB2.Í\u0006±¡È\u0013)LZéÓÇÞAÆ_/h«Üôÿb\u0011Ïzý\"å\u0005»Ò\u000b",
      "n\f",
      "C.«¤\u0015á`(\u001e",
      "9\\Hµ£._Ðê Ù_\u0018V\u0017ËRIQqþñþDÂ¡|ú¢wYZn\n",
      "lp\u001bàPØ-´Poíë\u000f.ô\u0014Ô¥aÞÞª¯ùµ¢.y(ºlÓ\u0018Tz­ü¡ûvörðMmì.yp²rÁæ½\bê©×Ç RÝç\u0002CM±\n"
     ]
    }
   ],
   "source": [
    "predict_text(model, 'o', 10)"
   ]
  },
  {
   "cell_type": "code",
   "execution_count": 56,
   "metadata": {},
   "outputs": [
    {
     "name": "stdout",
     "output_type": "stream",
     "text": [
      "u`NxØ¼È.\t¸\u00062¨Xæ.!w7Xª\u0005áÕÑ¶eÇ(\u0019ôuBÃ¼V`g) ¸ðD\u0005°6É\u0000kÊ÷ AÏÀ)Í\u0004ú»jré\u00107\u0019oá£8ÆjcÔ²§Ó¢\u0003£ÞÅqó\u0004+_±1øäØ½fY°",
      "\u001f+IPþãVQS-i«·©Ø Hh<\u0015ÆO.\u0002±\u0007w²\u000fõú8g\u000e°\n",
      "\u000eáÙá¡Wðª\u001d",
      "A~$Ô\u0001¶ýÑÀ6\u000fD{8r@rò65^§8ï½\u000eb¹+ÙÖ",
      "j*Jm\u001c",
      "­þp2»\u0018|qÊ|\u001a\t*×Z\u0000i÷hµþ\n",
      "iÃÏ~f\u001c",
      "\u0016\u001a¥",
      "Ò",
      "u©ßPÞ3y>­dú»Ù\u000e\u001fÿîNx[\n",
      "¢\\é,\u001bÙ±)­>Á»z¾¡\"¥³t¾\u00037}+´gË ¨Ùªz§RïÉ^êá}ØÝ¯+ÖJìl§x\u0018ª¤¼-=R\u001f[¾*Äbø±·¤Å¨#QfZòÔð¥OB»\u0015l\"x¤oãJ\u0013:¼ÃíÍ.\u0018§\f",
      "6­\u0012\u0001#ä¥²A®\u000b",
      "üZªç\u0011jtìØ5\n"
     ]
    }
   ],
   "source": [
    "predict_text(model, 'u', 10)"
   ]
  },
  {
   "cell_type": "markdown",
   "metadata": {},
   "source": [
    "## Observations from 2(c)\n",
    "\n",
    "1. I have predicted the text generated from a, e, i, o, u for temperatures 0.1, 1, 10\n",
    "2. For temperature as `0.1` it performs better whereas with high temperatures, it predicts random strings"
   ]
  }
 ],
 "metadata": {
  "kernelspec": {
   "display_name": "Python 3",
   "language": "python",
   "name": "python3"
  },
  "language_info": {
   "codemirror_mode": {
    "name": "ipython",
    "version": 3
   },
   "file_extension": ".py",
   "mimetype": "text/x-python",
   "name": "python",
   "nbconvert_exporter": "python",
   "pygments_lexer": "ipython3",
   "version": "3.6.4"
  }
 },
 "nbformat": 4,
 "nbformat_minor": 2
}
